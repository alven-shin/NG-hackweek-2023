{
 "cells": [
  {
   "cell_type": "code",
   "execution_count": 30,
   "metadata": {},
   "outputs": [],
   "source": [
    "import pandas as pd\n",
    "\n",
    "vit_df = pd.read_json(\"./training_results/vit.json\")\n",
    "resnet_df = pd.read_json(\"./training_results/resnet.json\")\n",
    "convnext_df = pd.read_json(\"./training_results/convnext.json\")\n",
    "\n",
    "vit_data = pd.DataFrame({\n",
    "    \"epoch\" : [i[\"epoch\"] for i in filter(lambda x : \"loss\" in x, vit_df[\"log_history\"])],\n",
    "    \"ViT\" : [i[\"loss\"] for i in filter(lambda x : \"loss\" in x, vit_df[\"log_history\"])],\n",
    "})\n",
    "\n",
    "resnet_data = pd.DataFrame({\n",
    "    \"epoch\" : [i[\"epoch\"] for i in filter(lambda x : \"loss\" in x, resnet_df[\"log_history\"])],\n",
    "    \"ResNet\" : [i[\"loss\"] for i in filter(lambda x : \"loss\" in x, resnet_df[\"log_history\"])],\n",
    "})\n",
    "\n",
    "convnext_data = pd.DataFrame({\n",
    "    \"epoch\" : [i[\"epoch\"] for i in filter(lambda x : \"loss\" in x, convnext_df[\"log_history\"])],\n",
    "    \"ConvNeXT\" : [i[\"loss\"] for i in filter(lambda x : \"loss\" in x, convnext_df[\"log_history\"])],\n",
    "})\n",
    "\n",
    "data = pd.concat([vit_data, resnet_data, convnext_data])\n",
    "data.to_csv(path_or_buf=\"./analyzed_data/loss.csv\", index=False,header=True)\n"
   ]
  },
  {
   "cell_type": "code",
   "execution_count": 31,
   "metadata": {},
   "outputs": [],
   "source": [
    "import pandas as pd\n",
    "\n",
    "vit_df = pd.read_json(\"./training_results/vit.json\")\n",
    "resnet_df = pd.read_json(\"./training_results/resnet.json\")\n",
    "convnext_df = pd.read_json(\"./training_results/convnext.json\")\n",
    "\n",
    "vit_data = pd.DataFrame({\n",
    "    \"epoch\" : [i[\"epoch\"] for i in filter(lambda x : \"eval_accuracy\" in x, vit_df[\"log_history\"])],\n",
    "    \"ViT\" : [i[\"eval_accuracy\"] for i in filter(lambda x : \"eval_accuracy\" in x, vit_df[\"log_history\"])],\n",
    "})\n",
    "\n",
    "resnet_data = pd.DataFrame({\n",
    "    \"epoch\" : [i[\"epoch\"] for i in filter(lambda x : \"eval_accuracy\" in x, resnet_df[\"log_history\"])],\n",
    "    \"ResNet\" : [i[\"eval_accuracy\"] for i in filter(lambda x : \"eval_accuracy\" in x, resnet_df[\"log_history\"])],\n",
    "})\n",
    "\n",
    "convnext_data = pd.DataFrame({\n",
    "    \"epoch\" : [i[\"epoch\"] for i in filter(lambda x : \"eval_accuracy\" in x, convnext_df[\"log_history\"])],\n",
    "    \"ConvNeXt\" : [i[\"eval_accuracy\"] for i in filter(lambda x : \"eval_accuracy\" in x, convnext_df[\"log_history\"])],\n",
    "})\n",
    "\n",
    "data = pd.concat([vit_data, resnet_data, convnext_data])\n",
    "data.to_csv(path_or_buf=\"./analyzed_data/accuracy.csv\", index=False,header=True)\n"
   ]
  },
  {
   "cell_type": "code",
   "execution_count": null,
   "metadata": {},
   "outputs": [],
   "source": [
    "import pandas as pd\n",
    "\n",
    "vit_df = pd.read_json(\"./training_results/vit.json\")\n",
    "resnet_df = pd.read_json(\"./training_results/resnet.json\")\n",
    "convnext_df = pd.read_json(\"./training_results/convnext.json\")\n",
    "\n",
    "vit_data = pd.DataFrame({\n",
    "    \"epoch\" : [i[\"epoch\"] for i in filter(lambda x : \"eval_accuracy\" in x, vit_df[\"log_history\"])],\n",
    "    \"ViT\" : [i[\"eval_runtime\"] for i in filter(lambda x : \"eval_runtime\" in x, vit_df[\"log_history\"])],\n",
    "})\n",
    "\n",
    "resnet_data = pd.DataFrame({\n",
    "    \"epoch\" : [i[\"epoch\"] for i in filter(lambda x : \"eval_accuracy\" in x, resnet_df[\"log_history\"])],\n",
    "    \"ResNet\" : [i[\"eval_runtime\"] for i in filter(lambda x : \"eval_runtime\" in x, resnet_df[\"log_history\"])],\n",
    "})\n",
    "\n",
    "convnext_data = pd.DataFrame({\n",
    "    \"epoch\" : [i[\"epoch\"] for i in filter(lambda x : \"eval_accuracy\" in x, convnext_df[\"log_history\"])],\n",
    "    \"ConvNeXt\" : [i[\"eval_runtime\"] for i in filter(lambda x : \"eval_runtime\" in x, convnext_df[\"log_history\"])],\n",
    "})\n",
    "\n",
    "data = pd.concat([vit_data, resnet_data, convnext_data])\n",
    "data.to_csv(path_or_buf=\"./analyzed_data/runtime.csv\", index=False,header=True)\n"
   ]
  }
 ],
 "metadata": {
  "kernelspec": {
   "display_name": ".venv",
   "language": "python",
   "name": "python3"
  },
  "language_info": {
   "codemirror_mode": {
    "name": "ipython",
    "version": 3
   },
   "file_extension": ".py",
   "mimetype": "text/x-python",
   "name": "python",
   "nbconvert_exporter": "python",
   "pygments_lexer": "ipython3",
   "version": "3.11.4"
  }
 },
 "nbformat": 4,
 "nbformat_minor": 2
}
