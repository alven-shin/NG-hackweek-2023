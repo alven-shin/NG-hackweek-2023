{
 "cells": [
  {
   "cell_type": "code",
   "execution_count": null,
   "metadata": {},
   "outputs": [],
   "source": []
  },
  {
   "cell_type": "code",
   "execution_count": null,
   "metadata": {},
   "outputs": [],
   "source": [
    "processor = IMAGE_PROCESSOR_CLASS.from_pretrained(MODEL_DIR)\n",
    "\n",
    "model = IMAGE_CLASSIFICATION_CLASS.from_pretrained(\n",
    "    MODEL_DIR,\n",
    "    num_labels=len(LABELS),\n",
    "    id2label={str(i): c for i, c in enumerate(LABELS)},\n",
    "    label2id={c: str(i) for i, c in enumerate(LABELS)},\n",
    "    ignore_mismatched_sizes=True\n",
    ")\n"
   ]
  },
  {
   "cell_type": "code",
   "execution_count": null,
   "metadata": {},
   "outputs": [],
   "source": [
    "from PIL import Image\n",
    "import torch\n",
    "\n",
    "with Image.open(\"./datasets/testing-small/ok/cast_ok_0_9791.jpeg\") as img:\n",
    "    inputs = processor(img, return_tensors=\"pt\")\n",
    "\n",
    "with torch.no_grad():\n",
    "    logits = model(**inputs).logits\n",
    "\n",
    "label_idx = logits.argmax(-1).item()\n",
    "label = LABELS[label_idx]\n",
    "confidence = logits.softmax(-1)[0][label_idx]* 100\n",
    "print(label, confidence)\n"
   ]
  }
 ],
 "metadata": {
  "kernelspec": {
   "display_name": ".venv",
   "language": "python",
   "name": "python3"
  },
  "language_info": {
   "codemirror_mode": {
    "name": "ipython",
    "version": 3
   },
   "file_extension": ".py",
   "mimetype": "text/x-python",
   "name": "python",
   "nbconvert_exporter": "python",
   "pygments_lexer": "ipython3",
   "version": "3.11.4"
  }
 },
 "nbformat": 4,
 "nbformat_minor": 2
}
